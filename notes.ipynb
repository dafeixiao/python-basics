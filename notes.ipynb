{
 "cells": [
  {
   "cell_type": "markdown",
   "id": "fdda8b01-7677-4eb7-bde1-190a2e61943b",
   "metadata": {},
   "source": [
    "This notes shows the difference of clone from detach in python\n",
    "\n",
    "The reference website:https://ofstack.com/python/39061/detailed-explanation-of-clone-of--detach-of-and-related-extensions-in-pytorch.html \n",
    "Avoiding using in-place operations."
   ]
  },
  {
   "cell_type": "code",
   "execution_count": 2,
   "id": "cd9c8f45-87c9-42ec-b7ef-1eed05f5b7bd",
   "metadata": {},
   "outputs": [],
   "source": [
    "import torch\n",
    "import numpy as np"
   ]
  },
  {
   "cell_type": "code",
   "execution_count": 3,
   "id": "bbb931af-3b81-422a-9a03-daba76f37495",
   "metadata": {},
   "outputs": [],
   "source": [
    "x = torch.tensor(1.0, requires_grad=True)\n",
    "x_clone = x.clone() # generating another intermediate variable\n",
    "x_detach = x.detach() # share the memory with x, detached from the computation graph"
   ]
  },
  {
   "cell_type": "code",
   "execution_count": 4,
   "id": "c55e6dd9-bb23-4fe0-ba52-4a86b0dfd3d3",
   "metadata": {},
   "outputs": [
    {
     "name": "stdout",
     "output_type": "stream",
     "text": [
      "2860869661168\n",
      "2860869659728\n",
      "2860869661008\n",
      "tensor(1.)\n"
     ]
    }
   ],
   "source": [
    "print(id(x))\n",
    "print(id(x_clone))\n",
    "print(id(x_detach)) # though the id is different from x, it shares memory with x\n",
    "# x.data += 2 \n",
    "x.data = x.data + 2\n",
    "print(x_detach)"
   ]
  },
  {
   "cell_type": "code",
   "execution_count": 5,
   "id": "2396d4da-c407-4592-8d67-0f1d49aa9036",
   "metadata": {},
   "outputs": [
    {
     "name": "stdout",
     "output_type": "stream",
     "text": [
      "2860938866496 True True\n",
      "2860938868096 False True\n",
      "2860938870400 False True\n"
     ]
    }
   ],
   "source": [
    "x = torch.tensor(2., requires_grad=True)\n",
    "print(x.data_ptr(), x.is_leaf, x.requires_grad)\n",
    "\n",
    "y = x + 1\n",
    "print(y.data_ptr(), y.is_leaf, y.requires_grad)\n",
    "\n",
    "x = x + 1 # an out-of-place operation, create a new non-leaf tensor\n",
    "print(x.data_ptr(), x.is_leaf, x.requires_grad)"
   ]
  },
  {
   "cell_type": "code",
   "execution_count": 6,
   "id": "65cead21-82db-42f7-a5fe-b72f64e67293",
   "metadata": {},
   "outputs": [
    {
     "name": "stdout",
     "output_type": "stream",
     "text": [
      "2860938868288 True False\n",
      "2860938870912 True False\n",
      "2860938868288 True False\n",
      "2860938865600 True False\n"
     ]
    }
   ],
   "source": [
    "x = torch.tensor(2., requires_grad=False)\n",
    "print(x.data_ptr(), x.is_leaf, x.requires_grad)\n",
    "\n",
    "y = x + 1\n",
    "print(y.data_ptr(), y.is_leaf, y.requires_grad)\n",
    "\n",
    "x += 1 # an in-place operation, no new tensor\n",
    "print(x.data_ptr(), x.is_leaf, x.requires_grad)\n",
    "\n",
    "x = x + 1 # an out-of-place operation, also create a new non-leaf tensor\n",
    "print(x.data_ptr(), x.is_leaf, x.requires_grad)"
   ]
  },
  {
   "cell_type": "code",
   "execution_count": 7,
   "id": "cece5aff-579a-49b2-b71a-04d73228518c",
   "metadata": {},
   "outputs": [
    {
     "name": "stdout",
     "output_type": "stream",
     "text": [
      "2860938867904 True True\n",
      "2860938865344 True False\n"
     ]
    }
   ],
   "source": [
    "x = torch.tensor(2., requires_grad=True)\n",
    "print(x.data_ptr(), x.is_leaf, x.requires_grad)\n",
    "z = x.clone().detach()\n",
    "print(z.data_ptr(), z.is_leaf, z.requires_grad)"
   ]
  }
 ],
 "metadata": {
  "kernelspec": {
   "display_name": "Python 3 (ipykernel)",
   "language": "python",
   "name": "python3"
  },
  "language_info": {
   "codemirror_mode": {
    "name": "ipython",
    "version": 3
   },
   "file_extension": ".py",
   "mimetype": "text/x-python",
   "name": "python",
   "nbconvert_exporter": "python",
   "pygments_lexer": "ipython3",
   "version": "3.10.6"
  }
 },
 "nbformat": 4,
 "nbformat_minor": 5
}
