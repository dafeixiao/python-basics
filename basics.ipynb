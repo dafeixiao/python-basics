{
 "cells": [
  {
   "cell_type": "markdown",
   "id": "b05d1c22-0996-4249-b600-e425f75ae826",
   "metadata": {},
   "source": [
    "\n",
    "python is an advanced programming language. it's designed for human, not machine.\n",
    "Kernel is an interpreter or translator generating machine language from advanced languages like python.\n",
    "python is open-source and a lot of people are contributing to python through making third-party\n",
    "libraries/ packages. A package is a collection of a series of modules and one module is one .py file.\n",
    "To manage those third-party packages, conda appears to work in the form of environment of receiving and removing packages.\n",
    "\n"
   ]
  },
  {
   "cell_type": "code",
   "execution_count": null,
   "id": "e4120249-94bc-4066-bedd-6bc1cfd932e2",
   "metadata": {},
   "outputs": [],
   "source": [
    "# number operators: python -- matlab\n",
    "# 加法 addition + -- +\n",
    "# 减法 subtraction - -- +\n",
    "# 乘法 multiplication * -- +\n",
    "# 除法 division with decimal / -- /\n",
    "\n",
    "# 乘方 exponentiation ** -- ^\n",
    "# 整除 round division // -- ceil, floor, fix, round\n",
    "# 余数 remainder % -- rem, mod\n",
    "\n",
    "# no unary increment and decrement ++ --\n"
   ]
  },
  {
   "cell_type": "code",
   "execution_count": 9,
   "id": "45df94a9-d8ab-4c3b-8b49-f382d7a74d45",
   "metadata": {},
   "outputs": [
    {
     "name": "stdout",
     "output_type": "stream",
     "text": [
      "8 1.6666666666666667 1 2\n"
     ]
    }
   ],
   "source": [
    "print(2**3, 5/3, 5//3, 5%3)"
   ]
  },
  {
   "cell_type": "code",
   "execution_count": 15,
   "id": "8847f98f-2ccc-40ae-a901-b7963d58f9b0",
   "metadata": {},
   "outputs": [],
   "source": [
    "# boolean operations: python -- matlab\n",
    "# and -- &/&& \n",
    "# or -- |/||\n",
    "# not -- ~\n",
    "# != -- ~="
   ]
  },
  {
   "cell_type": "code",
   "execution_count": 17,
   "id": "b04b9020-ec03-4675-ae8c-1641129e3016",
   "metadata": {},
   "outputs": [
    {
     "name": "stdout",
     "output_type": "stream",
     "text": [
      "False True True True\n"
     ]
    }
   ],
   "source": [
    "a = True\n",
    "b = False\n",
    "print(a and b, a or b, not b, a != b)"
   ]
  },
  {
   "cell_type": "code",
   "execution_count": 19,
   "id": "e8991bfe-5ff1-47c1-888c-e2fe62c547e5",
   "metadata": {},
   "outputs": [
    {
     "name": "stdout",
     "output_type": "stream",
     "text": [
      "<class 'list'>\n",
      "[2, 3, 4]\n",
      "[1, 4, 9, 16, 25]\n"
     ]
    }
   ],
   "source": [
    "# list\n",
    "l1 = [1, 2, 3, 4, 5]\n",
    "print(type(l1))\n",
    "print(l1[1:4]) # accessing ans slicing \n",
    "l2 = [i**2 for i in l1] # comprehension\n",
    "print(l2)"
   ]
  },
  {
   "cell_type": "code",
   "execution_count": 20,
   "id": "97e38c1b-78bd-45a2-9375-b331e0568d91",
   "metadata": {},
   "outputs": [
    {
     "name": "stdout",
     "output_type": "stream",
     "text": [
      "<class 'dict'>\n",
      "1\n",
      "{'x': 1, 'y': 2}\n",
      "{1: 'x', 2: 'y'}\n"
     ]
    }
   ],
   "source": [
    "# dictionary\n",
    "d1 = {\"x\": 1, \"y\": 2}\n",
    "d2 = dict(x=1, y=2)\n",
    "print(type(d2))  # dict\n",
    "print(d1[\"x\"])  # accessing, no slicing\n",
    "print(d2)\n",
    "d3 = {d1[i]: i for i in d1.keys()}\n",
    "print(d3)"
   ]
  },
  {
   "cell_type": "code",
   "execution_count": 22,
   "id": "786a7368-24d3-4cfe-847c-b7c21ba57949",
   "metadata": {},
   "outputs": [
    {
     "name": "stdout",
     "output_type": "stream",
     "text": [
      "<class 'set'>\n",
      "{'2', 'a'}\n"
     ]
    }
   ],
   "source": [
    "# set\n",
    "s1 = {1, \"2\", 3, \"a\"}  # no order, cannot be accessed\n",
    "print(type(s1))  # set\n",
    "s2 = {i for i in s1 if isinstance(i, str)}\n",
    "print(s2)"
   ]
  },
  {
   "cell_type": "code",
   "execution_count": 21,
   "id": "6c0f6237-238f-4982-9e79-334c6d7dd87e",
   "metadata": {},
   "outputs": [
    {
     "name": "stdout",
     "output_type": "stream",
     "text": [
      "(0, 1, 2, 3)\n",
      "<class 'tuple'>\n",
      "(1, 2, 3)\n",
      "1 2 3 4\n"
     ]
    }
   ],
   "source": [
    "# tuple\n",
    "t1 = (1, 2, 3, 4)\n",
    "t2 = tuple(range(4))\n",
    "print(t2)\n",
    "print(type(t2))  # tuple\n",
    "print(t1[:-1])  # accessing, no comprehension -- Matlab uses 'end' and cannot omit the start and end.\n",
    "a, b, c, d = t1  # unpacking a tuple\n",
    "print(a, b, c, d)"
   ]
  },
  {
   "cell_type": "code",
   "execution_count": 26,
   "id": "172b55f5-a130-450f-af30-e4059da3bab9",
   "metadata": {},
   "outputs": [
    {
     "name": "stdout",
     "output_type": "stream",
     "text": [
      "2\n",
      "2\n",
      "4\n",
      "5\n"
     ]
    }
   ],
   "source": [
    "# function\n",
    "def test_func(x, *apa, y=1, **aka):\n",
    "    print(x)  # positional argument\n",
    "    print(apa[0])  # additional/extra positional arguments, tuple\n",
    "    print(y)  # keyword argument\n",
    "    print(aka['z'])  # additional/extra keyword arguments, dictionary\n",
    "    \n",
    "test_func(2, 2, y=4, z=5)"
   ]
  },
  {
   "cell_type": "code",
   "execution_count": 34,
   "id": "3f298676-5170-460b-a638-94f48b26b519",
   "metadata": {},
   "outputs": [
    {
     "name": "stdout",
     "output_type": "stream",
     "text": [
      "the 0th element is 0\n",
      "the 1th element is 2\n",
      "the 2th element is 4\n",
      "the 3th element is 6\n",
      "get element [4]\n",
      "-4\n",
      "this is an ordinary method\n"
     ]
    }
   ],
   "source": [
    "# class\n",
    "from torch import nn\n",
    "class TestClass(nn.Module):\n",
    "    def __init__(self, x, y):\n",
    "        super().__init__()\n",
    "        self.x = x\n",
    "        self.y = y\n",
    "\n",
    "    def __iter__(self):  # used in loop\n",
    "        self.n = 0\n",
    "        return self  # the self here is an iterator\n",
    "\n",
    "    def __next__(self):  # control iterator defined in __iter__\n",
    "        if self.n < self.x:\n",
    "            r = 2*self.n\n",
    "            self.n += 1\n",
    "            return r\n",
    "        else:\n",
    "            raise StopIteration  # end control\n",
    "\n",
    "    def __getitem__(self, item):  # used with []\n",
    "        print(f'get element [{item}]')\n",
    "\n",
    "    def __call__(self):  # function method, used with ()\n",
    "        print(self.x-self.y)\n",
    "\n",
    "    def forward(self):  # function method, regard object/instance of this class as a function\n",
    "        print(self.x+self.y)\n",
    "\n",
    "    def test(self):\n",
    "        print(f'this is an ordinary method')\n",
    "        \n",
    "obj = TestClass(4, 8)\n",
    "for idx, i in enumerate(obj):\n",
    "    print(f'the {idx}th element is {i}')\n",
    "obj[4]\n",
    "obj()  # run __call__ instead of forward, why? call has higher priority over forward which is based on nn.Module\n",
    "obj.test()"
   ]
  },
  {
   "cell_type": "code",
   "execution_count": 42,
   "id": "5ac13d8a-459c-42f8-815c-106650c70ea0",
   "metadata": {},
   "outputs": [
    {
     "name": "stdout",
     "output_type": "stream",
     "text": [
      "numpy test\n",
      "unifrom distributiion:\n",
      " [[0.06012417 0.97707551]\n",
      " [0.54631934 0.0596382 ]]\n",
      "standard normal distribution: \n",
      " [[-0.82842995 -0.57889703]\n",
      " [-0.68192232 -0.39089931]]\n",
      "shape: (2, 2)\n",
      "rank: 2\n",
      "data type: float64\n",
      "[0.97707551 0.0596382 ]\n",
      "[[0.97707551]\n",
      " [0.0596382 ]]\n",
      "[[0.97707551]\n",
      " [0.0596382 ]]\n",
      "[[0.97707551]\n",
      " [0.0596382 ]]\n",
      "[0.97707551 0.0596382 ]\n",
      "[[2. 2.]\n",
      " [2. 2.]]\n",
      "[[1. 1.]\n",
      " [1. 1.]]\n",
      "[[2. 2.]\n",
      " [2. 2.]]\n",
      "[[2. 2.]\n",
      " [2. 2.]]\n",
      "[[1. 1.]\n",
      " [1. 1.]]\n",
      "[[1. 1. 1. 1.]]\n"
     ]
    }
   ],
   "source": [
    "\n",
    "# numpy，ndarray: .shape, .dtype, np.newaxis, np.expand_dims, np.squeeze, np.reshape, .astype()\n",
    "import numpy as np\n",
    "print('numpy test')\n",
    "a = np.random.rand(2, 2)  # torch uses torch.rand, matlab uses \"rand\"\n",
    "b = np.random.randn(2, 2) # torch uses torch.randn, matlab uses \"randn\"\n",
    "print(f'unifrom distributiion:\\n {a}')\n",
    "print(f'standard normal distribution: \\n {b}')\n",
    "\n",
    "print(f'shape: {a.shape}')  # get the shape of an adarray\n",
    "print(f'rank: {len(a.shape)}')\n",
    "print(f'data type: {a.dtype}')  # get the data type of elements\n",
    "print(a[:, 1])  # accessing and slicing, rank:1\n",
    "print(np.expand_dims(a[:, 1], axis=1))  # add a dimension\n",
    "print(a[:, 1][:, np.newaxis]) # another way of adding dimensions\n",
    "\n",
    "print(a[:, 1:2])  # accessing and slicing, rank:2\n",
    "print(np.squeeze(a[:, 1:2], axis=1))  # remove dimension\n",
    "x = np.ones((2, 2))  # different from rand and randn\n",
    "print(x+x)  # addition\n",
    "print(x*x)  # element-wise multiplication -- matlab uses \".*\"\n",
    "print(x@x)  # matrix multiplication\n",
    "print(x+np.ones((2, 1)))  # broadcasting -- matlab also has broadcasting function\n",
    "print(x/np.ones((1, 2)))  # broadcasting \n",
    "print(np.reshape(x, (1, -1))) # reshape\n"
   ]
  },
  {
   "cell_type": "code",
   "execution_count": 50,
   "id": "53fed076-bc04-4259-b9e8-7c9b3dd90b0d",
   "metadata": {},
   "outputs": [
    {
     "name": "stdout",
     "output_type": "stream",
     "text": [
      "torch test\n",
      "a: \n",
      "tensor([[0.7648, 0.3996],\n",
      "        [0.9057, 0.7860]])\n",
      "b: \n",
      "tensor([[ 0.1783,  1.5244],\n",
      "        [-0.5184,  0.8942]])\n",
      "<class 'torch.Tensor'> torch.Size([2, 2]) torch.float32 2\n",
      "tensor([0.9057, 0.7860])\n",
      "tensor([[0.9057, 0.7860]])\n",
      "tensor([[0.9057, 0.7860]])\n",
      "tensor([0.9057, 0.7860])\n",
      "tensor([0.9057, 0.7860])\n",
      "tensor([[1., 1.],\n",
      "        [1., 1.]])\n",
      "tensor([[1.7648, 1.3996],\n",
      "        [1.9057, 1.7860]])\n",
      "tensor([[0.7648, 0.3996],\n",
      "        [0.9057, 0.7860]])\n",
      "tensor([[2., 2.],\n",
      "        [2., 2.]])\n",
      "tensor([[1.7648, 1.3996],\n",
      "        [1.9057, 1.7860]])\n",
      "tensor([[1.7648, 1.3996],\n",
      "        [1.9057, 1.7860]])\n",
      "tensor([[1.],\n",
      "        [1.]])\n"
     ]
    }
   ],
   "source": [
    "\n",
    "# pytorch, tensor: .shape, .dtype, torch.unsqueeze, torch.squeeze, torch.reshape, .view(), .type()\n",
    "import torch\n",
    "print('torch test')\n",
    "a = torch.rand((2, 2))\n",
    "b = torch.randn((2, 2))\n",
    "print(f'a: \\n{a}')\n",
    "print(f'b: \\n{b}')\n",
    "print(type(a), a.shape, a.dtype, len(a.shape))\n",
    "print(a[1, :])\n",
    "print(torch.unsqueeze(a[1, :], dim=0))\n",
    "print(a[1:2, :])\n",
    "print(torch.squeeze(a[1:2, :], dim=0))\n",
    "print(torch.squeeze(a[1:2, :]))\n",
    "x = torch.ones(2, 2)\n",
    "print(x)\n",
    "print(a+x)\n",
    "print(a*x)\n",
    "print(x@x)  # matrix multiplication\n",
    "print(a+torch.ones(1, 2))\n",
    "print(a+torch.ones(2))\n",
    "print(torch.ones(2, 1))  # broadcasting\n"
   ]
  },
  {
   "cell_type": "code",
   "execution_count": 57,
   "id": "15ff6f9f-b408-4389-a833-72bba6a63db6",
   "metadata": {},
   "outputs": [
    {
     "name": "stdout",
     "output_type": "stream",
     "text": [
      "test autograd\n",
      "tensor([[1., 1.],\n",
      "        [1., 1.]], requires_grad=True)\n",
      "tensor([[1., 1.],\n",
      "        [1., 1.]], grad_fn=<PowBackward0>)\n",
      "tensor(4., grad_fn=<SumBackward0>)\n",
      "the gradient of z to x:\n",
      "tensor([[3., 3.],\n",
      "        [3., 3.]])\n",
      "the gradient of z to x after setting zero:\n",
      "tensor([[0., 0.],\n",
      "        [0., 0.]])\n",
      "the gradient of z to y:\n",
      "None\n"
     ]
    }
   ],
   "source": [
    "# automatic differentiation of torch\n",
    "print('test autograd')\n",
    "x = torch.ones((2, 2), requires_grad=True)  # require_grad's default value is False, so enable it\n",
    "print(x)\n",
    "y = x**3  # (1, 2)\n",
    "print(y)\n",
    "z = torch.sum(y)  # single value\n",
    "print(z)\n",
    "\n",
    "z.backward()  # calculate the gradient of leaf tensors, x is a leaf, y is not s leaf.\n",
    "print(f'the gradient of z to x:\\n{x.grad}')\n",
    "x.grad.zero_()  # set the gradient as zero\n",
    "print(f'the gradient of z to x after setting zero:\\n{x.grad}')\n",
    "print(f'the gradient of z to y:\\n{y.grad}')  # y is not a leaf, so this way cannot reach y gradient.\n",
    "\n",
    "# print('another way to get gradients')\n",
    "# x_grad = torch.autograd.grad(z, x)  # apply torch.autograd.grad which can be only applied to scalar\n",
    "# y_grad = torch.autograd.grad(z, y)\n",
    "# print(f'the gradient of z to x:\\n{x_grad}')\n",
    "# print(f'the gradient of z to y:\\n{y_grad}')\n"
   ]
  }
 ],
 "metadata": {
  "kernelspec": {
   "display_name": "Python 3 (ipykernel)",
   "language": "python",
   "name": "python3"
  },
  "language_info": {
   "codemirror_mode": {
    "name": "ipython",
    "version": 3
   },
   "file_extension": ".py",
   "mimetype": "text/x-python",
   "name": "python",
   "nbconvert_exporter": "python",
   "pygments_lexer": "ipython3",
   "version": "3.10.6"
  }
 },
 "nbformat": 4,
 "nbformat_minor": 5
}
